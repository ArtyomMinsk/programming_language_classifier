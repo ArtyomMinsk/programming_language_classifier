{
 "cells": [
  {
   "cell_type": "code",
   "execution_count": 1,
   "metadata": {
    "collapsed": true
   },
   "outputs": [],
   "source": [
    "from sklearn.naive_bayes import MultinomialNB\n",
    "from sklearn.feature_extraction.text import CountVectorizer\n",
    "from sklearn.feature_extraction.text import TfidfTransformer\n",
    "from sklearn.feature_extraction.text import TfidfVectorizer\n",
    "from sklearn.linear_model import SGDClassifier\n",
    "from sklearn.ensemble import RandomForestClassifier\n",
    "from sklearn.pipeline import Pipeline\n",
    "from sklearn.cross_validation import train_test_split\n",
    "import glob"
   ]
  },
  {
   "cell_type": "markdown",
   "metadata": {},
   "source": [
    "# Polyglot\n",
    "\n",
    "Code snippets classification into programming languages.\n",
    "#### Task \n",
    "Create a classifier that can take snippets of code and guesses the programming language of the code."
   ]
  },
  {
   "cell_type": "markdown",
   "metadata": {},
   "source": [
    "Creating a dictionary with keys as file extensions and values as the name of the programming language. "
   ]
  },
  {
   "cell_type": "code",
   "execution_count": 2,
   "metadata": {
    "collapsed": true
   },
   "outputs": [],
   "source": [
    "keys = ['.clojure', '.hs', '.java', '.javascript', '.ocaml', '.php', '.py', '.jruby', '.scala', '.racket', \n",
    "        '.python3', '.hack', '.yarv', '.tcl', '.js', '.gcc', '.csharp', '.sbcl']\n",
    "values = ['Clojure', 'Haskell', 'Java', 'JavaScript', 'OCaml', 'PHP', 'Python', 'Ruby', 'Scala', 'Scheme', \n",
    "          'Python', 'PHP', 'Ruby', 'TCL', 'JavaScript', 'C', 'C#', 'Common Lisp']\n",
    "dictionary = dict(zip(keys, values))\n",
    "#, 'Perl', 'Perl', 'Perl'   , '.pm', '.pl', '.t'"
   ]
  },
  {
   "cell_type": "markdown",
   "metadata": {},
   "source": [
    "Creating a function that reads all files in the folder and adds to the list only those that correspond to the file extensions listed above. This functions returns the list of file contests and list of names of the programming languages. "
   ]
  },
  {
   "cell_type": "code",
   "execution_count": 3,
   "metadata": {
    "collapsed": false
   },
   "outputs": [],
   "source": [
    "def read_files():\n",
    "    files = glob.glob('extensions/*/*')\n",
    "    texts = []\n",
    "    labels = []\n",
    "    for file in files:\n",
    "        for item in keys:\n",
    "            if file.endswith(item):\n",
    "                with open(file, encoding = 'latin_1') as f:\n",
    "                    texts.append(f.read())\n",
    "                    labels.append(dictionary[item])\n",
    "    return texts, labels"
   ]
  },
  {
   "cell_type": "code",
   "execution_count": 4,
   "metadata": {
    "collapsed": true
   },
   "outputs": [],
   "source": [
    "X, y = read_files()"
   ]
  },
  {
   "cell_type": "code",
   "execution_count": 5,
   "metadata": {
    "collapsed": true
   },
   "outputs": [],
   "source": [
    "#X_train, X_test, y_train, y_test = train_test_split(X, y, train_size = 0.9, random_state = 0)"
   ]
  },
  {
   "cell_type": "markdown",
   "metadata": {},
   "source": [
    "Training the model with data:"
   ]
  },
  {
   "cell_type": "code",
   "execution_count": 6,
   "metadata": {
    "collapsed": false
   },
   "outputs": [
    {
     "data": {
      "text/plain": [
       "Pipeline(steps=[('vect', CountVectorizer(analyzer='word', binary=False, decode_error='strict',\n",
       "        dtype=<class 'numpy.int64'>, encoding='utf-8', input='content',\n",
       "        lowercase=True, max_df=0.8, max_features=None, min_df=1,\n",
       "        ngram_range=(1, 1), preprocessor=None, stop_words=None,\n",
       "        strip_accents=None, token_pattern='(?u)\\\\b\\\\w\\\\w+\\\\b',\n",
       "        tokenizer=None, vocabulary=None)), ('clf', MultinomialNB(alpha=1.0, class_prior=None, fit_prior=True))])"
      ]
     },
     "execution_count": 6,
     "metadata": {},
     "output_type": "execute_result"
    }
   ],
   "source": [
    "text_clf = Pipeline([('vect', CountVectorizer(max_df = 0.8)), \n",
    "                     #('tfidf', TfidfTransformer()), \n",
    "                     #('tfidf_vec', TfidfVectorizer(analyzer='char')),\n",
    "                     #('rfc', RandomForestClassifier(n_estimators = 10, random_state = 0)),\n",
    "                     #('sgdc', SGDClassifier(loss='hinge', penalty='l2', alpha=1e-3, n_iter=5, random_state=4)),\n",
    "                     ('clf', MultinomialNB())\n",
    "                    ])\n",
    "#text_clf.fit(X_train, y_train)\n",
    "text_clf.fit(X, y)"
   ]
  },
  {
   "cell_type": "code",
   "execution_count": 7,
   "metadata": {
    "collapsed": false
   },
   "outputs": [
    {
     "data": {
      "text/plain": [
       "0.97922848664688422"
      ]
     },
     "execution_count": 7,
     "metadata": {},
     "output_type": "execute_result"
    }
   ],
   "source": [
    "#text_clf.score(X_train, y_train)\n",
    "text_clf.score(X, y)"
   ]
  },
  {
   "cell_type": "code",
   "execution_count": 8,
   "metadata": {
    "collapsed": false
   },
   "outputs": [],
   "source": [
    "#text_clf.score(X_test, y_test)"
   ]
  },
  {
   "cell_type": "markdown",
   "metadata": {},
   "source": [
    "Creating a function that takes a snippet of code as a string and returns the programming language of the code."
   ]
  },
  {
   "cell_type": "code",
   "execution_count": 9,
   "metadata": {
    "collapsed": true
   },
   "outputs": [],
   "source": [
    "def classify_code(string):\n",
    "    text_clf = Pipeline([('vect', CountVectorizer(max_df = 0.8)), \n",
    "                     #('tfidf', TfidfTransformer()), \n",
    "                     #('tfidf_vec', TfidfVectorizer(analyzer='char')),\n",
    "                     #('rfc', RandomForestClassifier(n_estimators = 10, random_state = 0)),\n",
    "                     #('sgdc', SGDClassifier(loss='hinge', penalty='l2', alpha=1e-3, n_iter=5, random_state=4)),\n",
    "                     ('clf', MultinomialNB())\n",
    "                    ])\n",
    "    #text_clf.fit(X_train, y_train)\n",
    "    text_clf.fit(X, y)\n",
    "    lang = text_clf.predict(string) \n",
    "    return lang[0]"
   ]
  },
  {
   "cell_type": "markdown",
   "metadata": {},
   "source": [
    "Creating a function that reads test files that contain snippets of code."
   ]
  },
  {
   "cell_type": "code",
   "execution_count": 10,
   "metadata": {
    "collapsed": true
   },
   "outputs": [],
   "source": [
    "def get_test_files():\n",
    "    files = glob.glob('test/*')\n",
    "    snippets = []\n",
    "    for file in files:\n",
    "        with open(file) as f:\n",
    "            snippets.append(f.read())\n",
    "    return snippets"
   ]
  },
  {
   "cell_type": "markdown",
   "metadata": {},
   "source": [
    "Predicting the result:"
   ]
  },
  {
   "cell_type": "code",
   "execution_count": 11,
   "metadata": {
    "collapsed": false
   },
   "outputs": [
    {
     "name": "stdout",
     "output_type": "stream",
     "text": [
      "1 ['PHP']\n",
      "2 ['Clojure']\n",
      "3 ['Clojure']\n",
      "4 ['Clojure']\n",
      "5 ['Python']\n",
      "6 ['Python']\n",
      "7 ['Python']\n",
      "8 ['Python']\n",
      "9 ['JavaScript']\n",
      "10 ['JavaScript']\n",
      "11 ['JavaScript']\n",
      "12 ['JavaScript']\n",
      "13 ['Ruby']\n",
      "14 ['Python']\n",
      "15 ['Ruby']\n",
      "16 ['Haskell']\n",
      "17 ['Haskell']\n",
      "18 ['TCL']\n",
      "19 ['Scheme']\n",
      "20 ['Scheme']\n",
      "21 ['Scheme']\n",
      "22 ['Java']\n",
      "23 ['TCL']\n",
      "24 ['Scala']\n",
      "25 ['Scala']\n",
      "26 ['TCL']\n",
      "27 ['TCL']\n",
      "28 ['TCL']\n",
      "29 ['JavaScript']\n",
      "30 ['JavaScript']\n",
      "31 ['OCaml']\n",
      "32 ['OCaml']\n"
     ]
    }
   ],
   "source": [
    "for num in range(0,32):\n",
    "    code = get_test_files()\n",
    "    predicted = text_clf.predict([code[num]])\n",
    "    print(num + 1, predicted)"
   ]
  },
  {
   "cell_type": "markdown",
   "metadata": {},
   "source": [
    "Result: 25 out of 32 snippets of code were guessed correctly (78%). "
   ]
  },
  {
   "cell_type": "markdown",
   "metadata": {},
   "source": [
    "## Testing \n",
    "\n",
    "These snippets of code were taken from https://highlightjs.org/"
   ]
  },
  {
   "cell_type": "code",
   "execution_count": 12,
   "metadata": {
    "collapsed": false
   },
   "outputs": [
    {
     "data": {
      "text/plain": [
       "'Clojure'"
      ]
     },
     "execution_count": 12,
     "metadata": {},
     "output_type": "execute_result"
    }
   ],
   "source": [
    "# Clojure\n",
    "my_snippet_1 = [\"\"\"(def ^:dynamic chunk-size 17)\n",
    "(defn next-chunk [rdr]\n",
    "  (let [buf (char-array chunk-size)\n",
    "        s (.read rdr buf)]\n",
    "  (when (pos? s)\n",
    "    (java.nio.CharBuffer/wrap buf 0 s))))\n",
    "(defn chunk-seq [rdr]\n",
    "  (when-let [chunk (next-chunk rdr)]\n",
    "    (cons chunk (lazy-seq (chunk-seq rdr)))))\"\"\"]\n",
    "classify_code(my_snippet_1)"
   ]
  },
  {
   "cell_type": "code",
   "execution_count": 13,
   "metadata": {
    "collapsed": false
   },
   "outputs": [
    {
     "data": {
      "text/plain": [
       "'Python'"
      ]
     },
     "execution_count": 13,
     "metadata": {},
     "output_type": "execute_result"
    }
   ],
   "source": [
    "#Python\n",
    "my_snippet_2 = [\"\"\"@requires_authorization\n",
    "def somefunc(param1='', param2=0):\n",
    "    r'''A docstring'''\n",
    "    if param1 > param2: # interesting\n",
    "        print 'Gre\\'ater'\n",
    "    return (param2 - param1 + 1 + 0b10l) or None\n",
    "class SomeClass:\n",
    "    pass\n",
    ">>> message = '''interpreter\n",
    "... prompt'''\"\"\"]\n",
    "classify_code(my_snippet_2)"
   ]
  },
  {
   "cell_type": "code",
   "execution_count": 14,
   "metadata": {
    "collapsed": false
   },
   "outputs": [
    {
     "data": {
      "text/plain": [
       "'JavaScript'"
      ]
     },
     "execution_count": 14,
     "metadata": {},
     "output_type": "execute_result"
    }
   ],
   "source": [
    "#JavaScript\n",
    "my_snippet_3 = [\"\"\"function $initHighlight(block, cls) {\n",
    "  try {\n",
    "    if (cls.search(/\\bno\\-highlight\\b/) != -1)\n",
    "      return process(block, true, 0x0F) +\n",
    "             ` class=\"${cls}\"`;\n",
    "  } catch (e) {\n",
    "    /* handle exception */\n",
    "  }\n",
    "  for (var i = 0 / 2; i < classes.length; i++) {\n",
    "    if (checkCondition(classes[i]) === undefined)\n",
    "      console.log('undefined');\n",
    "  }\n",
    "}\n",
    "export  $initHighlight;\"\"\"]\n",
    "classify_code(my_snippet_3)"
   ]
  },
  {
   "cell_type": "code",
   "execution_count": 15,
   "metadata": {
    "collapsed": false
   },
   "outputs": [
    {
     "data": {
      "text/plain": [
       "'Ruby'"
      ]
     },
     "execution_count": 15,
     "metadata": {},
     "output_type": "execute_result"
    }
   ],
   "source": [
    "#Ruby\n",
    "my_snippet_4 = [\"\"\"# The Greeter class\n",
    "class Greeter\n",
    "  def initialize(name)\n",
    "    @name = name.capitalize\n",
    "  end\n",
    "  def salute\n",
    "    puts \"Hello #{@name}!\"\n",
    "  end\n",
    "end\n",
    "g = Greeter.new(\"world\")\n",
    "g.salute\"\"\"]\n",
    "classify_code(my_snippet_4)"
   ]
  },
  {
   "cell_type": "code",
   "execution_count": 16,
   "metadata": {
    "collapsed": false
   },
   "outputs": [
    {
     "data": {
      "text/plain": [
       "'Haskell'"
      ]
     },
     "execution_count": 16,
     "metadata": {},
     "output_type": "execute_result"
    }
   ],
   "source": [
    "#Haskell\n",
    "my_snippet_5 = [\"\"\"{-# LANGUAGE TypeSynonymInstances #-}\n",
    "module Network.UDP\n",
    "( DataPacket(..)\n",
    ", openBoundUDPPort\n",
    ", openListeningUDPPort\n",
    ", pingUDPPort\n",
    ", sendUDPPacketTo\n",
    ", recvUDPPacket\n",
    ", recvUDPPacketFrom\n",
    ") where\n",
    "import qualified Data.ByteString as Strict (ByteString, concat, singleton)\n",
    "import qualified Data.ByteString.Lazy as Lazy (ByteString, toChunks, fromChunks)\n",
    "import Data.ByteString.Char8 (pack, unpack)\n",
    "import Network.Socket hiding (sendTo, recv, recvFrom)\n",
    "import Network.Socket.ByteString (sendTo, recv, recvFrom)\n",
    "-- Type class for converting StringLike types to and from strict ByteStrings\n",
    "class DataPacket a where\n",
    "  toStrictBS :: a -> Strict.ByteString\n",
    " fromStrictBS :: Strict.ByteString -> a\n",
    "\"\"\"]\n",
    "classify_code(my_snippet_5)"
   ]
  },
  {
   "cell_type": "code",
   "execution_count": 17,
   "metadata": {
    "collapsed": false
   },
   "outputs": [
    {
     "data": {
      "text/plain": [
       "'Common Lisp'"
      ]
     },
     "execution_count": 17,
     "metadata": {},
     "output_type": "execute_result"
    }
   ],
   "source": [
    "#Scheme\n",
    "my_snippet_6 = [\"\"\";; Calculation of Hofstadter's male and female sequences as a list of pairs\n",
    "(define (hofstadter-male-female n)\n",
    "(letrec ((female (lambda (n)\n",
    "           (if (= n 0)\n",
    "           1\n",
    "           (- n (male (female (- n 1)))))))\n",
    "     (male (lambda (n)\n",
    "         (if (= n 0)\n",
    "             0\n",
    "             (- n (female (male (- n 1))))))))\n",
    "  (let loop ((i 0))\n",
    "    (if (> i n)\n",
    "    '()\n",
    "    (cons (cons (female i)\n",
    "            (male i))\n",
    "      (loop (+ i 1)))))))\n",
    "(hofstadter-male-female 8)\n",
    "(define (find-first func lst)\n",
    "(call-with-current-continuation\n",
    " (lambda (return-immediately)\n",
    "   (for-each (lambda (x)\n",
    "       (if (func x)\n",
    "           (return-immediately x)))\n",
    "         lst)\n",
    "   #f)))\n",
    "\"\"\"]\n",
    "classify_code(my_snippet_6)"
   ]
  },
  {
   "cell_type": "code",
   "execution_count": 18,
   "metadata": {
    "collapsed": false
   },
   "outputs": [
    {
     "data": {
      "text/plain": [
       "'Java'"
      ]
     },
     "execution_count": 18,
     "metadata": {},
     "output_type": "execute_result"
    }
   ],
   "source": [
    "#Java\n",
    "my_snippet_7 = [\"\"\"/**\n",
    " * @author John Smith <john.smith@example.com>\n",
    "*/\n",
    "package l2f.gameserver.model;\n",
    "public abstract class L2Char extends L2Object {\n",
    "  public static final Short ERROR = 0x0001;\n",
    "  public void moveTo(int x, int y, int z) {\n",
    "    _ai = null;\n",
    "    log(\"Should not be called\");\n",
    "    if (1 > 5) { // wtf!?\n",
    "      return;\n",
    "    }\n",
    "  }\n",
    "}\n",
    "\"\"\"]\n",
    "classify_code(my_snippet_7)"
   ]
  },
  {
   "cell_type": "code",
   "execution_count": 19,
   "metadata": {
    "collapsed": false
   },
   "outputs": [
    {
     "data": {
      "text/plain": [
       "'Scala'"
      ]
     },
     "execution_count": 19,
     "metadata": {},
     "output_type": "execute_result"
    }
   ],
   "source": [
    "#Scala\n",
    "my_snippet_8 = [\"\"\"/**\n",
    " * A person has a name and an age.\n",
    " */\n",
    "case class Person(name: String, age: Int)\n",
    "abstract class Vertical extends CaseJeu\n",
    "case class Haut(a: Int) extends Vertical\n",
    "case class Bas(name: String, b: Double) extends Vertical\n",
    "sealed trait Ior[+A, +B]\n",
    "case class Left[A](a: A) extends Ior[A, Nothing]\n",
    "case class Right[B](b: B) extends Ior[Nothing, B]\n",
    "case class Both[A, B](a: A, b: B) extends Ior[A, B]\n",
    "\"\"\"]\n",
    "classify_code(my_snippet_8)"
   ]
  },
  {
   "cell_type": "code",
   "execution_count": 20,
   "metadata": {
    "collapsed": false
   },
   "outputs": [
    {
     "data": {
      "text/plain": [
       "'TCL'"
      ]
     },
     "execution_count": 20,
     "metadata": {},
     "output_type": "execute_result"
    }
   ],
   "source": [
    "#TCL\n",
    "my_snippet_9 = [\"\"\"package json\n",
    "source helper.tcl\n",
    "# randomness verified by a die throw\n",
    "set ::rand 4\n",
    "proc give::recursive::count {base p} { ; # 2 mandatory params\n",
    "    while {$p > 0} {\n",
    "        set result [expr $result * $base]; incr p -1\n",
    "    }\n",
    "    return $result\n",
    "}\n",
    "set a 'a'; set b \"bcdef\"; set lst [list \"item\"]\n",
    "puts [llength $a$b]\n",
    "\n",
    "set ::my::tid($id) $::my::tid(def)\n",
    "lappend lst $arr($idx) $::my::arr($idx) $ar(key)\n",
    "lreplace ::my::tid($id) 4 4\n",
    "puts $::rand ${::rand} ${::AWESOME::component::variable}\n",
    "puts \"$x + $y is\\t [expr $x + $y]\"\n",
    "proc isprime x {\n",
    "    expr {$x>1 && ![regexp {^(oo+?)\\1+$} [string repeat o $x]]}\n",
    "}\n",
    "\"\"\"]\n",
    "classify_code(my_snippet_9)"
   ]
  },
  {
   "cell_type": "code",
   "execution_count": 21,
   "metadata": {
    "collapsed": false
   },
   "outputs": [
    {
     "data": {
      "text/plain": [
       "'PHP'"
      ]
     },
     "execution_count": 21,
     "metadata": {},
     "output_type": "execute_result"
    }
   ],
   "source": [
    "#PHP\n",
    "my_snippet_10 = [\"\"\"require_once 'Zend/Uri/Http.php';\n",
    "namespace Location\\Web;\n",
    "interface Factory\n",
    "{\n",
    "    static function _factory();\n",
    "}\n",
    "abstract class URI extends BaseURI implements Factory\n",
    "{\n",
    "    abstract function test();\n",
    "    public static $st1 = 1;\n",
    "  \n",
    "\"\"\"]\n",
    "classify_code(my_snippet_10)"
   ]
  },
  {
   "cell_type": "code",
   "execution_count": 22,
   "metadata": {
    "collapsed": false
   },
   "outputs": [
    {
     "data": {
      "text/plain": [
       "'Common Lisp'"
      ]
     },
     "execution_count": 22,
     "metadata": {},
     "output_type": "execute_result"
    }
   ],
   "source": [
    "#Ocaml\n",
    "my_snippet_11 = [\"\"\"(* This is a\n",
    "multiline, (* nested *) comment *)\n",
    "type point = { x: float; y: float };;\n",
    "let some_string = \"this is a string\";;\n",
    "let rec length lst =\n",
    "    match lst with\n",
    "      [] -> 0\n",
    "    | head :: tail -> 1 + length tail\n",
    "  ;;\n",
    "exception Test;;\n",
    "type expression =\n",
    "\"\"\"]\n",
    "classify_code(my_snippet_11)"
   ]
  },
  {
   "cell_type": "code",
   "execution_count": 23,
   "metadata": {
    "collapsed": false
   },
   "outputs": [
    {
     "data": {
      "text/plain": [
       "'C'"
      ]
     },
     "execution_count": 23,
     "metadata": {},
     "output_type": "execute_result"
    }
   ],
   "source": [
    "#C\n",
    "my_snippet_12 = [\"\"\"#include <iostream>\n",
    "\n",
    "int main(int argc, char *argv[]) {\n",
    "\n",
    "  /* An annoying \"Hello World\" example */\n",
    "  for (auto i = 0; i < 0xFFFF; i++)\n",
    "    cout << \"Hello, World!\" << endl;\n",
    "\n",
    "  char c = '\\n';\n",
    "  unordered_map <string, vector<string> > m;\n",
    "  m[\"key\"] = \"\\\\\\\\\"; // this is an error\n",
    "\n",
    "  return -2e3 + 12l;\n",
    "}\n",
    "\"\"\"]\n",
    "classify_code(my_snippet_12)"
   ]
  },
  {
   "cell_type": "code",
   "execution_count": 24,
   "metadata": {
    "collapsed": false
   },
   "outputs": [
    {
     "data": {
      "text/plain": [
       "'C#'"
      ]
     },
     "execution_count": 24,
     "metadata": {},
     "output_type": "execute_result"
    }
   ],
   "source": [
    "#C_sharp\n",
    "my_snippet_13 = [\"\"\"using System;\n",
    "\n",
    "#pragma warning disable 414, 3021\n",
    "\n",
    "/// <summary>Main task</summary>\n",
    "async Task<int> AccessTheWebAsync()\n",
    "{\n",
    "    Console.WriteLine(\"Hello, World!\");\n",
    "    string urlContents = await getStringTask;\n",
    "    return urlContents.Length;\n",
    "}\n",
    "\"\"\"]\n",
    "classify_code(my_snippet_13)"
   ]
  },
  {
   "cell_type": "code",
   "execution_count": 25,
   "metadata": {
    "collapsed": false
   },
   "outputs": [
    {
     "data": {
      "text/plain": [
       "'Common Lisp'"
      ]
     },
     "execution_count": 25,
     "metadata": {},
     "output_type": "execute_result"
    }
   ],
   "source": [
    "#Common Lisp\n",
    "my_snippet_14 = [\"\"\"(etypecase ${1:key-form}\n",
    "  (${2:match} ${3:result}))\n",
    "\"\"\"]\n",
    "classify_code(my_snippet_14)"
   ]
  },
  {
   "cell_type": "code",
   "execution_count": 26,
   "metadata": {
    "collapsed": false
   },
   "outputs": [
    {
     "data": {
      "text/plain": [
       "'Clojure'"
      ]
     },
     "execution_count": 26,
     "metadata": {},
     "output_type": "execute_result"
    }
   ],
   "source": [
    "#Perl\n",
    "my_snippet_15 = [\"\"\"# loads object\n",
    "sub load\n",
    "{\n",
    "  my $flds = $c->db_load($id,@_) || do {\n",
    "    Carp::carp \"Can`t load (class: $c, id: $id): '$!'\"; return undef\n",
    "  };\n",
    "  my $o = $c->_perl_new();\n",
    "  $id12 = $id / 24 / 3600;\n",
    "  $o->{'ID'} = $id12 + 123;\n",
    "  #$o->{'SHCUT'} = $flds->{'SHCUT'};\n",
    "  my $p = $o->props;\n",
    "  my $vt;\n",
    "  $string =~ m/^sought_text$/;\n",
    "  $items = split //, 'abc';\n",
    "  $string //= \"bar\";\n",
    "  for my $key (keys %$p)\n",
    "  {\n",
    "\n",
    "\n",
    "\"\"\"]\n",
    "classify_code(my_snippet_15)"
   ]
  },
  {
   "cell_type": "code",
   "execution_count": null,
   "metadata": {
    "collapsed": true
   },
   "outputs": [],
   "source": []
  }
 ],
 "metadata": {
  "kernelspec": {
   "display_name": "Python 3",
   "language": "python",
   "name": "python3"
  },
  "language_info": {
   "codemirror_mode": {
    "name": "ipython",
    "version": 3
   },
   "file_extension": ".py",
   "mimetype": "text/x-python",
   "name": "python",
   "nbconvert_exporter": "python",
   "pygments_lexer": "ipython3",
   "version": "3.5.1"
  }
 },
 "nbformat": 4,
 "nbformat_minor": 0
}
